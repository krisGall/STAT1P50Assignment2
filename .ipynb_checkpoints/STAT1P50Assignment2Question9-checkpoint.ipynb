{
 "cells": [
  {
   "cell_type": "code",
   "execution_count": 2,
   "id": "0b1fcd3b",
   "metadata": {},
   "outputs": [
    {
     "data": {
      "text/plain": [
       "PctPopUnderPov         0.615753\n",
       "PctUnemployed          0.548039\n",
       "PolicPerPop            0.149319\n",
       "Pcthomeless            0.426614\n",
       "PctBSorMore           -0.296239\n",
       "ViolentCrimesPerPop    1.000000\n",
       "Name: ViolentCrimesPerPop, dtype: float64"
      ]
     },
     "metadata": {},
     "output_type": "display_data"
    }
   ],
   "source": [
    "import pandas\n",
    "\n",
    "# Creating data frame\n",
    "data = pandas.read_csv('crime.csv', \n",
    "                       delimiter = ',')\n",
    "\n",
    "# Creating correlation matrix\n",
    "correlations = data.corr()\n",
    "\n",
    "# Outputting correlations for ViolentCrimesPerPop\n",
    "display(correlations['ViolentCrimesPerPop'])"
   ]
  },
  {
   "cell_type": "code",
   "execution_count": null,
   "id": "6b26e836",
   "metadata": {},
   "outputs": [],
   "source": []
  }
 ],
 "metadata": {
  "kernelspec": {
   "display_name": "Python 3 (ipykernel)",
   "language": "python",
   "name": "python3"
  },
  "language_info": {
   "codemirror_mode": {
    "name": "ipython",
    "version": 3
   },
   "file_extension": ".py",
   "mimetype": "text/x-python",
   "name": "python",
   "nbconvert_exporter": "python",
   "pygments_lexer": "ipython3",
   "version": "3.10.6"
  }
 },
 "nbformat": 4,
 "nbformat_minor": 5
}
