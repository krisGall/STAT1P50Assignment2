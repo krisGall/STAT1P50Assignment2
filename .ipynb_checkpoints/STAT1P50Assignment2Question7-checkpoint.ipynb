{
 "cells": [
  {
   "cell_type": "code",
   "execution_count": 30,
   "id": "e32f7a60",
   "metadata": {},
   "outputs": [
    {
     "name": "stdout",
     "output_type": "stream",
     "text": [
      "2\n"
     ]
    }
   ],
   "source": [
    "import requests\n",
    "from bs4 import BeautifulSoup\n",
    "\n",
    "# Creating soup to hold HTML from website\n",
    "content = requests.get(\"https://en.wikipedia.org/wiki/Data_science\").text\n",
    "soup = BeautifulSoup(content, 'html5lib')\n",
    "\n",
    "# Finding paragraph tags\n",
    "paragraphs = soup.find_all('p')\n",
    "\n",
    "# Initialzing counter\n",
    "learningCount = 0\n",
    "\n",
    "# Finding paragraphs with learning\n",
    "for paragraph in paragraphs:\n",
    "    if 'learning' in paragraph.text:\n",
    "        learningCount += 1\n",
    "\n",
    "# Outputting count\n",
    "print(learningCount)\n"
   ]
  },
  {
   "cell_type": "code",
   "execution_count": null,
   "id": "6b9b923c",
   "metadata": {},
   "outputs": [],
   "source": []
  }
 ],
 "metadata": {
  "kernelspec": {
   "display_name": "Python 3 (ipykernel)",
   "language": "python",
   "name": "python3"
  },
  "language_info": {
   "codemirror_mode": {
    "name": "ipython",
    "version": 3
   },
   "file_extension": ".py",
   "mimetype": "text/x-python",
   "name": "python",
   "nbconvert_exporter": "python",
   "pygments_lexer": "ipython3",
   "version": "3.10.6"
  }
 },
 "nbformat": 4,
 "nbformat_minor": 5
}
