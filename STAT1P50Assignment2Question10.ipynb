{
 "cells": [
  {
   "cell_type": "code",
   "execution_count": 40,
   "id": "c40a028b",
   "metadata": {},
   "outputs": [
    {
     "name": "stdout",
     "output_type": "stream",
     "text": [
      "500 is an outlier!\n"
     ]
    }
   ],
   "source": [
    "import numpy\n",
    "\n",
    "def checkForOutlier(listOfValues):\n",
    "    '''\n",
    "    checkForOutlier checks if the list of values provided contains any\n",
    "    outliers using the definition of mean (mu) plus or minus 3 std deviations\n",
    "    (sigma)\n",
    "    \n",
    "    Requires numpy package\n",
    "    '''\n",
    "    mu = numpy.mean(listOfValues)\n",
    "    sigma = numpy.std(listOfValues)\n",
    "    \n",
    "    for value in range(0,len(listOfValues)):\n",
    "        if ( listOfValues[value] > mu + 3*sigma\n",
    "            or listOfValues[value] < mu - 3*sigma):\n",
    "                \n",
    "            print(f\"{listOfValues[value]} is an outlier!\")\n",
    "            \n",
    "testList = [1,2,3,4,5,6,7,8,9,10,500]\n",
    "\n",
    "checkForOutlier(testList)\n",
    "    "
   ]
  },
  {
   "cell_type": "code",
   "execution_count": null,
   "id": "9945f262",
   "metadata": {},
   "outputs": [],
   "source": []
  }
 ],
 "metadata": {
  "kernelspec": {
   "display_name": "Python 3 (ipykernel)",
   "language": "python",
   "name": "python3"
  },
  "language_info": {
   "codemirror_mode": {
    "name": "ipython",
    "version": 3
   },
   "file_extension": ".py",
   "mimetype": "text/x-python",
   "name": "python",
   "nbconvert_exporter": "python",
   "pygments_lexer": "ipython3",
   "version": "3.10.6"
  }
 },
 "nbformat": 4,
 "nbformat_minor": 5
}
