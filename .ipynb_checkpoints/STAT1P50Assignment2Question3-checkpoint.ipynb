{
 "cells": [
  {
   "cell_type": "code",
   "execution_count": 9,
   "id": "e77bec4a",
   "metadata": {},
   "outputs": [
    {
     "name": "stdout",
     "output_type": "stream",
     "text": [
      "2850\n"
     ]
    }
   ],
   "source": [
    "# opening file\n",
    "file = open(file='sample-file.txt', mode='r')\n",
    "\n",
    "# reading file lines\n",
    "fileLines = file.readlines()\n",
    "\n",
    "# counting lines with q\n",
    "qCount = 0\n",
    "for line in range(0,len(fileLines)):\n",
    "    if 'q' in fileLines[line]:\n",
    "        qCount += 1\n",
    "\n",
    "# outputting count of q\n",
    "print(qCount)"
   ]
  },
  {
   "cell_type": "code",
   "execution_count": null,
   "id": "2ed8e060",
   "metadata": {},
   "outputs": [],
   "source": []
  }
 ],
 "metadata": {
  "kernelspec": {
   "display_name": "Python 3 (ipykernel)",
   "language": "python",
   "name": "python3"
  },
  "language_info": {
   "codemirror_mode": {
    "name": "ipython",
    "version": 3
   },
   "file_extension": ".py",
   "mimetype": "text/x-python",
   "name": "python",
   "nbconvert_exporter": "python",
   "pygments_lexer": "ipython3",
   "version": "3.10.6"
  }
 },
 "nbformat": 4,
 "nbformat_minor": 5
}
