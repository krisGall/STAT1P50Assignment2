{
 "cells": [
  {
   "cell_type": "code",
   "execution_count": 3,
   "id": "55ce22ad",
   "metadata": {},
   "outputs": [
    {
     "name": "stdout",
     "output_type": "stream",
     "text": [
      "Please enter Fasting Blood Sugar level in mg/dl:102\n"
     ]
    }
   ],
   "source": [
    "# Taking fasting blood sugar input\n",
    "fastingBloodSugar = int(input(\"Please enter Fasting Blood Sugar level in mg/dl:\"))\n",
    "\n",
    "# Comaparing fasting blood sugar to normal value\n",
    "if fastingBloodSugar <= 99:\n",
    "    print(\"Fasting Blood Sugar value is out of normal range\")\n"
   ]
  },
  {
   "cell_type": "code",
   "execution_count": null,
   "id": "1bc036da",
   "metadata": {},
   "outputs": [],
   "source": []
  }
 ],
 "metadata": {
  "kernelspec": {
   "display_name": "Python 3 (ipykernel)",
   "language": "python",
   "name": "python3"
  },
  "language_info": {
   "codemirror_mode": {
    "name": "ipython",
    "version": 3
   },
   "file_extension": ".py",
   "mimetype": "text/x-python",
   "name": "python",
   "nbconvert_exporter": "python",
   "pygments_lexer": "ipython3",
   "version": "3.10.6"
  }
 },
 "nbformat": 4,
 "nbformat_minor": 5
}
